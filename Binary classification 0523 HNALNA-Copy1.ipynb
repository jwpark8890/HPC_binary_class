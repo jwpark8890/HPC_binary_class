{
 "cells": [
  {
   "cell_type": "code",
   "execution_count": 226,
   "id": "908bdcad",
   "metadata": {},
   "outputs": [],
   "source": [
    "# HPC pass/fail classification model by Jiwon Park\n",
    "# Supervised binary classification model version 1.0 (2022. 05. 16)\n",
    "# Flow cytometry data should be prepared into subfraction concentration data\n",
    "# Limitations: 1) Only fit for chlorinated drinking water system. 2) bias by stagnant tap samples\n",
    "# Applications: Online FCM measurement to predict HPC regulatory pass/fail criteria"
   ]
  },
  {
   "cell_type": "code",
   "execution_count": 227,
   "id": "d53cae96",
   "metadata": {},
   "outputs": [],
   "source": [
    "import pandas as pd\n",
    "import seaborn as sb\n",
    "import numpy as np\n",
    "import tensorflow as tf\n",
    "import matplotlib.pyplot as plt\n",
    "table = pd.read_csv('data hna lna.csv', sep=',')  #Load your CSV data "
   ]
  },
  {
   "cell_type": "code",
   "execution_count": 228,
   "id": "52dbfaa6",
   "metadata": {
    "scrolled": false
   },
   "outputs": [
    {
     "name": "stdout",
     "output_type": "stream",
     "text": [
      "          Free_Cl         ATP           LNA           HNA    HPC_fail\n",
      "count  192.000000  192.000000    192.000000    192.000000  192.000000\n",
      "mean     0.113021   36.217708   6410.812500   2425.052083    0.187500\n",
      "std      0.114271   38.393433   9759.308836   4684.713910    0.391333\n",
      "min      0.000000    4.700000    140.000000      2.000000    0.000000\n",
      "25%      0.010000   12.700000    836.500000     46.000000    0.000000\n",
      "50%      0.080000   23.100000   1696.000000    195.000000    0.000000\n",
      "75%      0.220000   45.125000   9413.000000   2489.000000    0.000000\n",
      "max      0.440000  226.100000  55118.000000  24954.000000    1.000000\n",
      "0    156\n",
      "1     36\n",
      "Name: HPC_fail, dtype: int64\n"
     ]
    },
    {
     "data": {
      "text/plain": [
       "<Figure size 360x216 with 0 Axes>"
      ]
     },
     "metadata": {},
     "output_type": "display_data"
    }
   ],
   "source": [
    "print(table.describe())\n",
    "plt.figure(figsize=(5,3))\n",
    "print(table[\"HPC_fail\"].value_counts())\n",
    "# HPC pass/fail label should be at the end of column "
   ]
  },
  {
   "cell_type": "code",
   "execution_count": 229,
   "id": "32db4200",
   "metadata": {},
   "outputs": [
    {
     "data": {
      "text/plain": [
       "(array([156.,   0.,   0.,   0.,   0.,   0.,   0.,   0.,   0.,  36.]),\n",
       " array([0. , 0.1, 0.2, 0.3, 0.4, 0.5, 0.6, 0.7, 0.8, 0.9, 1. ]),\n",
       " <BarContainer object of 10 artists>)"
      ]
     },
     "execution_count": 229,
     "metadata": {},
     "output_type": "execute_result"
    },
    {
     "data": {
      "image/png": "[encoded data removed]",
      "text/plain": [
       "<Figure size 432x288 with 1 Axes>"
      ]
     },
     "metadata": {
      "needs_background": "light"
     },
     "output_type": "display_data"
    }
   ],
   "source": [
    "table_norm = (table - table.min()) / (table.max()-table.min())   \n",
    "plt.hist(table_norm[\"HPC_fail\"])"
   ]
  },
  {
   "cell_type": "code",
   "execution_count": 230,
   "id": "6d504820",
   "metadata": {
    "scrolled": true
   },
   "outputs": [
    {
     "name": "stdout",
     "output_type": "stream",
     "text": [
      "      Free_Cl       ATP       LNA       HNA  HPC_fail\n",
      "83   0.022727  0.345528  0.297646  0.069253       0.0\n",
      "39   0.045455  0.050136  0.019099  0.002004       0.0\n",
      "139  0.022727  0.173893  0.337335  0.437881       1.0\n",
      "95   0.022727  0.892502  0.429299  0.466015       1.0\n",
      "165  0.000000  0.084463  0.027793  0.002966       0.0\n"
     ]
    }
   ],
   "source": [
    "table_shuffle = table_norm.sample(frac=1)  # Sample order shuffle\n",
    "#table_shuffle = table_norm.sample(frac=1, random_state = 119)  \n",
    "print(table_shuffle.head()) # check your normalized data \n",
    "table_np = table_shuffle.to_numpy() "
   ]
  },
  {
   "cell_type": "code",
   "execution_count": 231,
   "id": "ed845eaf",
   "metadata": {},
   "outputs": [],
   "source": [
    "train_idx = int(len(table_np)*0.8) \n",
    "train_X, train_Y = table_np[:train_idx, :-1], table_np[:train_idx, -1]\n",
    "test_X, test_Y = table_np[train_idx:, :-1], table_np[train_idx:, -1]\n",
    "train_Y = tf.keras.utils.to_categorical(train_Y, num_classes = 2) \n",
    "test_Y = tf.keras.utils.to_categorical(test_Y, num_classes = 2)"
   ]
  },
  {
   "cell_type": "code",
   "execution_count": 232,
   "id": "7b65daa4",
   "metadata": {},
   "outputs": [
    {
     "name": "stdout",
     "output_type": "stream",
     "text": [
      "Model: \"sequential_15\"\n",
      "_________________________________________________________________\n",
      "Layer (type)                 Output Shape              Param #   \n",
      "=================================================================\n",
      "dense_45 (Dense)             (None, 16)                80        \n",
      "_________________________________________________________________\n",
      "dense_46 (Dense)             (None, 8)                 136       \n",
      "_________________________________________________________________\n",
      "dense_47 (Dense)             (None, 2)                 18        \n",
      "=================================================================\n",
      "Total params: 234\n",
      "Trainable params: 234\n",
      "Non-trainable params: 0\n",
      "_________________________________________________________________\n"
     ]
    }
   ],
   "source": [
    "#activation function option \n",
    "# Too much modes or dense layers result in overfitting of model\n",
    "\n",
    "model =tf.keras.Sequential([\n",
    "    tf.keras.layers.Dense(units=16, activation='relu', input_shape=(4,)), # options: relu, tanh, or sigmoid\n",
    "    tf.keras.layers.Dense(units=8, activation='softmax'),\n",
    "    tf.keras.layers.Dense(units=2, activation='softmax')\n",
    "])\n",
    "\n",
    "model.compile(optimizer=tf.keras.optimizers.Adam(learning_rate=0.07), # You can optimize learning rate\n",
    "#loss='binary_crossentropy', metrics=['accuracy']) #option: categorical_ or binary_\n",
    "loss='categorical_crossentropy', metrics=['accuracy']) \n",
    "\n",
    "model.summary()"
   ]
  },
  {
   "cell_type": "code",
   "execution_count": 233,
   "id": "28d4bb14",
   "metadata": {},
   "outputs": [
    {
     "name": "stdout",
     "output_type": "stream",
     "text": [
      "Epoch 1/150\n",
      "3/3 [==============================] - 1s 87ms/step - loss: 0.6129 - accuracy: 0.7951 - val_loss: 0.3848 - val_accuracy: 0.8710\n",
      "Epoch 2/150\n",
      "3/3 [==============================] - 0s 14ms/step - loss: 0.4772 - accuracy: 0.7869 - val_loss: 0.2861 - val_accuracy: 0.8710\n",
      "Epoch 3/150\n",
      "3/3 [==============================] - 0s 14ms/step - loss: 0.3911 - accuracy: 0.7869 - val_loss: 0.2199 - val_accuracy: 0.8710\n",
      "Epoch 4/150\n",
      "3/3 [==============================] - 0s 13ms/step - loss: 0.2988 - accuracy: 0.7869 - val_loss: 0.1764 - val_accuracy: 0.8710\n",
      "Epoch 5/150\n",
      "3/3 [==============================] - 0s 13ms/step - loss: 0.2472 - accuracy: 0.8852 - val_loss: 0.1350 - val_accuracy: 0.9355\n",
      "Epoch 6/150\n",
      "3/3 [==============================] - 0s 13ms/step - loss: 0.2143 - accuracy: 0.9262 - val_loss: 0.1390 - val_accuracy: 0.9355\n",
      "Epoch 7/150\n",
      "3/3 [==============================] - 0s 15ms/step - loss: 0.2085 - accuracy: 0.9344 - val_loss: 0.1385 - val_accuracy: 0.9355\n",
      "Epoch 8/150\n",
      "3/3 [==============================] - 0s 14ms/step - loss: 0.1847 - accuracy: 0.9344 - val_loss: 0.1120 - val_accuracy: 0.9677\n",
      "Epoch 9/150\n",
      "3/3 [==============================] - 0s 16ms/step - loss: 0.1843 - accuracy: 0.9344 - val_loss: 0.1380 - val_accuracy: 0.9355\n",
      "Epoch 10/150\n",
      "3/3 [==============================] - 0s 13ms/step - loss: 0.2015 - accuracy: 0.9180 - val_loss: 0.1318 - val_accuracy: 0.9355\n",
      "Epoch 11/150\n",
      "3/3 [==============================] - 0s 14ms/step - loss: 0.1739 - accuracy: 0.9344 - val_loss: 0.1657 - val_accuracy: 0.9355\n",
      "Epoch 12/150\n",
      "3/3 [==============================] - 0s 13ms/step - loss: 0.2692 - accuracy: 0.9098 - val_loss: 0.1541 - val_accuracy: 0.9355\n",
      "Epoch 13/150\n",
      "3/3 [==============================] - 0s 15ms/step - loss: 0.1745 - accuracy: 0.9426 - val_loss: 0.1504 - val_accuracy: 0.9355\n",
      "Epoch 14/150\n",
      "3/3 [==============================] - 0s 14ms/step - loss: 0.1916 - accuracy: 0.9344 - val_loss: 0.1539 - val_accuracy: 0.9355\n",
      "Epoch 15/150\n",
      "3/3 [==============================] - 0s 14ms/step - loss: 0.2214 - accuracy: 0.8934 - val_loss: 0.1477 - val_accuracy: 0.9355\n",
      "Epoch 16/150\n",
      "3/3 [==============================] - 0s 15ms/step - loss: 0.2084 - accuracy: 0.8934 - val_loss: 0.1406 - val_accuracy: 0.9355\n",
      "Epoch 17/150\n",
      "3/3 [==============================] - 0s 14ms/step - loss: 0.1874 - accuracy: 0.9344 - val_loss: 0.1518 - val_accuracy: 0.9032\n",
      "Epoch 18/150\n",
      "3/3 [==============================] - 0s 13ms/step - loss: 0.1861 - accuracy: 0.9262 - val_loss: 0.1725 - val_accuracy: 0.9032\n"
     ]
    }
   ],
   "source": [
    "#optimization is needed for numbers in epochs and batch size\n",
    "#validation split affects the size of training/test data (we recommend 0.2 or 0.3)\n",
    "history = model.fit(train_X, train_Y, epochs=150, batch_size=55, validation_split=0.2,\n",
    "                    callbacks=[tf.keras.callbacks.EarlyStopping(patience=10, monitor=\"val_loss\")]) \n",
    "#Earlystopping will cease epoch automatically"
   ]
  },
  {
   "cell_type": "code",
   "execution_count": 234,
   "id": "7a6f9e90",
   "metadata": {
    "scrolled": true
   },
   "outputs": [
    {
     "data": {
      "text/plain": [
       "<function matplotlib.pyplot.show(close=None, block=None)>"
      ]
     },
     "execution_count": 234,
     "metadata": {},
     "output_type": "execute_result"
    },
    {
     "data": {
      "image/png": "[encoded data removed]",
      "text/plain": [
       "<Figure size 1080x360 with 2 Axes>"
      ]
     },
     "metadata": {
      "needs_background": "light"
     },
     "output_type": "display_data"
    }
   ],
   "source": [
    "plt.figure(figsize=(15,5))\n",
    "plt.subplot(1,2,1)\n",
    "plt.plot(history.history['loss'], 'b-', label='loss')\n",
    "plt.plot(history.history['val_loss'], 'r--', label='val_loss')\n",
    "plt.xlabel('Epoch')\n",
    "plt.ylim(0.0, 1)\n",
    "plt.legend()\n",
    "\n",
    "plt.subplot(1,2,2)\n",
    "plt.plot(history.history['accuracy'], 'g-', label='accuracy')\n",
    "plt.plot(history.history['val_accuracy'], 'k--', label='val_acc')\n",
    "plt.xlabel('Epoch')\n",
    "plt.ylim(0.0, 1)\n",
    "plt.legend()\n",
    "\n",
    "plt.show"
   ]
  },
  {
   "cell_type": "code",
   "execution_count": 235,
   "id": "ff11fd85",
   "metadata": {},
   "outputs": [
    {
     "name": "stdout",
     "output_type": "stream",
     "text": [
      "2/2 [==============================] - 0s 3ms/step - loss: 0.0923 - accuracy: 0.9744\n"
     ]
    },
    {
     "data": {
      "text/plain": [
       "[0.09225352853536606, 0.9743589758872986]"
      ]
     },
     "execution_count": 235,
     "metadata": {},
     "output_type": "execute_result"
    }
   ],
   "source": [
    "model.evaluate(test_X, test_Y)"
   ]
  },
  {
   "cell_type": "code",
   "execution_count": 236,
   "id": "66e4ace6",
   "metadata": {},
   "outputs": [
    {
     "name": "stdout",
     "output_type": "stream",
     "text": [
      "[[0.00847245 0.00846724 0.00844589 0.00844755 0.00844734 0.00846333\n",
      "  0.00844622 0.00844645 0.00844893 0.01090876 0.00844667 0.8127019\n",
      "  0.00861265 0.00844591 0.00844676 0.00844589 0.8003001  0.12824625\n",
      "  0.00850275 0.00847156 0.00847647 0.00847681 0.00844606 0.00844658\n",
      "  0.7362398  0.00844587 0.7929556  0.00844643 0.00844595 0.00845335\n",
      "  0.07052802 0.00850316 0.00844591 0.00844595 0.00848879 0.7959685\n",
      "  0.00844609 0.0084459  0.00844734]]\n"
     ]
    }
   ],
   "source": [
    "pred_Y = model.predict(test_X)\n",
    "y1=np.delete(pred_Y,0,1)\n",
    "y2=np.transpose(y1)\n",
    "print(y2)"
   ]
  },
  {
   "cell_type": "code",
   "execution_count": 237,
   "id": "2155a52e",
   "metadata": {},
   "outputs": [
    {
     "name": "stdout",
     "output_type": "stream",
     "text": [
      "[[0. 0. 0. 0. 0. 0. 0. 0. 0. 0. 0. 1. 0. 0. 0. 0. 1. 1. 0. 0. 0. 0. 0. 0.\n",
      "  1. 0. 1. 0. 0. 0. 0. 0. 0. 0. 0. 1. 0. 0. 0.]]\n"
     ]
    }
   ],
   "source": [
    "x1=np.delete(test_Y,0,1)\n",
    "x2=np.transpose(x1)\n",
    "print(x2)"
   ]
  },
  {
   "cell_type": "code",
   "execution_count": 238,
   "id": "da88a043",
   "metadata": {},
   "outputs": [
    {
     "name": "stdout",
     "output_type": "stream",
     "text": [
      "This is a preview of test data prediction results\n",
      "   Test   Predict\n",
      "0   0.0  0.008472\n",
      "1   0.0  0.008467\n",
      "2   0.0  0.008446\n",
      "3   0.0  0.008448\n",
      "4   0.0  0.008447\n"
     ]
    }
   ],
   "source": [
    "df1 = pd.DataFrame(data=x1,columns=['Test'])\n",
    "df2 = pd.DataFrame(data=y1, columns=['Predict'])\n",
    "df3 = pd.concat([df1, df2], axis = 1, ignore_index=False)\n",
    "print(\"This is a preview of test data prediction results\")\n",
    "print(df3.head())\n",
    "df3.to_csv('result_test_merge.csv') # Check the stored CSV file to open full results"
   ]
  },
  {
   "cell_type": "code",
   "execution_count": 239,
   "id": "6cb3b43f",
   "metadata": {},
   "outputs": [
    {
     "name": "stderr",
     "output_type": "stream",
     "text": [
      "C:\\Users\\JW PARK\\anaconda3\\envs\\tensorflow\\lib\\site-packages\\seaborn\\categorical.py:1136: UserWarning: You passed a edgecolor/edgecolors ('Set1') for an unfilled marker ('x').  Matplotlib is ignoring the edgecolor in favor of the facecolor.  This behavior may change in the future.\n",
      "  ax.scatter(cat_pos, strip_data, **kws)\n"
     ]
    },
    {
     "data": {
      "image/png": "[encoded data removed]",
      "text/plain": [
       "<Figure size 432x432 with 1 Axes>"
      ]
     },
     "metadata": {
      "needs_background": "light"
     },
     "output_type": "display_data"
    },
    {
     "name": "stdout",
     "output_type": "stream",
     "text": [
      "This is the final result by HPC pass/fail prediction by culture-independent FCM-ICC data\n"
     ]
    }
   ],
   "source": [
    "# Final results\n",
    "# You can change styles (dot shape, size, and colors)\n",
    "plt.figure(figsize=(6,6))\n",
    "#colors = [\"dodgerblue\", \"red\"]\n",
    "#sb.set_palette(sb.color_palette(colors))\n",
    "sb.stripplot(x=\"Test\", y=\"Predict\", hue=\"Test\", data=df3, linewidth=1, size=15, marker=\"x\", edgecolors=\"Set1\", alpha=0.7)\n",
    "plt.ylim(-0.1, 1.1)\n",
    "#plt.xlim(-0.1, 1.1)\n",
    "\n",
    "plt.xticks([0.0,0.5,1.0], fontsize=14)\n",
    "plt.yticks([0.0,0.5,1.0], fontsize=14)\n",
    "plt.xlabel('True HPC', fontsize=15)\n",
    "plt.ylabel('Predicted HPC', fontsize=15)\n",
    "#plt.legend(fontsize=12) \n",
    "plt.show()\n",
    "print(\"This is the final result by HPC pass/fail prediction by culture-independent FCM-ICC data\")"
   ]
  },
  {
   "cell_type": "code",
   "execution_count": 240,
   "id": "c4237d53",
   "metadata": {},
   "outputs": [
    {
     "data": {
      "image/png": "[encoded data removed]",
      "text/plain": [
       "<Figure size 432x432 with 1 Axes>"
      ]
     },
     "metadata": {
      "needs_background": "light"
     },
     "output_type": "display_data"
    },
    {
     "name": "stdout",
     "output_type": "stream",
     "text": [
      "This is the final result by HPC pass/fail prediction by culture-independent FCM-ICC data\n"
     ]
    }
   ],
   "source": [
    "plt.figure(figsize=(6,6))\n",
    "#colors = [\"dodgerblue\", \"red\"]\n",
    "#sb.set_palette(sb.color_palette(colors))\n",
    "sb.boxplot(x=\"Test\", y=\"Predict\", hue=\"Test\", data=df3)\n",
    "plt.ylim(-0.1, 1.1)\n",
    "#plt.xlim(-0.1, 1.1)\n",
    "\n",
    "plt.xticks([0.0,0.5,1.0], fontsize=14)\n",
    "plt.yticks([0.0,0.5,1.0], fontsize=14)\n",
    "plt.xlabel('True HPC', fontsize=15)\n",
    "plt.ylabel('Predicted HPC', fontsize=15)\n",
    "#plt.legend(fontsize=12) \n",
    "plt.show()\n",
    "print(\"This is the final result by HPC pass/fail prediction by culture-independent FCM-ICC data\")"
   ]
  },
  {
   "cell_type": "code",
   "execution_count": null,
   "id": "ac053527",
   "metadata": {},
   "outputs": [],
   "source": []
  }
 ],
 "metadata": {
  "kernelspec": {
   "display_name": "Python [conda env:tensorflow] *",
   "language": "python",
   "name": "conda-env-tensorflow-py"
  },
  "language_info": {
   "codemirror_mode": {
    "name": "ipython",
    "version": 3
   },
   "file_extension": ".py",
   "mimetype": "text/x-python",
   "name": "python",
   "nbconvert_exporter": "python",
   "pygments_lexer": "ipython3",
   "version": "3.9.7"
  }
 },
 "nbformat": 4,
 "nbformat_minor": 5
}
