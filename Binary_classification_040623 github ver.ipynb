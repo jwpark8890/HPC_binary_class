{
 "cells": [
  {
   "cell_type": "code",
   "execution_count": null,
   "id": "908bdcad",
   "metadata": {
    "id": "908bdcad"
   },
   "outputs": [],
   "source": [
    "# HPC pass/fail binary classification model by Jiwon Park\n",
    "# version 1.2 (2023. 06. 04)"
   ]
  },
  {
   "cell_type": "code",
   "execution_count": null,
   "id": "d53cae96",
   "metadata": {
    "id": "d53cae96"
   },
   "outputs": [],
   "source": [
    "import pandas as pd\n",
    "import seaborn as sb\n",
    "import numpy as np\n",
    "import tensorflow as tf\n",
    "import matplotlib.pyplot as plt\n",
    "import datetime\n",
    "import os\n",
    "import sys\n",
    "from sklearn.base import BaseEstimator\n",
    "from sklearn.metrics import hamming_loss\n",
    "import eli5\n",
    "from eli5.sklearn import PermutationImportance\n",
    "\n",
    "# customize your project folder\n",
    "rawdata = pd.read_csv('Final data 230125.csv', sep=',')  #Load your CSV data "
   ]
  },
  {
   "cell_type": "code",
   "execution_count": null,
   "id": "MXIFSITfXCNG",
   "metadata": {
    "id": "MXIFSITfXCNG"
   },
   "outputs": [],
   "source": [
    "from sklearn.inspection import permutation_importance"
   ]
  },
  {
   "cell_type": "code",
   "execution_count": null,
   "id": "9cd137e3",
   "metadata": {
    "colab": {
     "base_uri": "https://localhost:8080/"
    },
    "id": "9cd137e3",
    "outputId": "3e67db28-e588-47b7-8080-073e9ba5795a"
   },
   "outputs": [],
   "source": [
    "print(\"True labels are\")\n",
    "print(rawdata[\"HPC_fail\"].value_counts())"
   ]
  },
  {
   "cell_type": "code",
   "execution_count": null,
   "id": "62afa378",
   "metadata": {
    "id": "62afa378"
   },
   "outputs": [],
   "source": [
    "# input presets\n",
    "# LNA and HNA are subpopulation of intact cell count (ICC)\n",
    "input1=rawdata.loc[:, ['Free_Cl', 'ATP', 'LNA','HNA','HPC_fail']] #including all data\n",
    "input2=rawdata.loc[:, ['ATP', 'LNA','HNA','HPC_fail']]            #excepting free chlorine\n",
    "input3=rawdata.loc[:, ['Free_Cl', 'LNA','HNA','HPC_fail']]        #excepting ATP\n",
    "input4=rawdata.loc[:, ['Free_Cl', 'ATP', 'ICC','HPC_fail']]       #replacing HNA/LNA to ICC\n",
    "input5=rawdata.loc[:, ['Free_Cl', 'ATP','HPC_fail']]              #excepting all FCM data \n",
    "input6=rawdata.loc[:, ['Free_Cl', 'ICC','HPC_fail']]              #excepting ATP, but replacing HNA/LNA to ICC\n",
    "input7=rawdata.loc[:, ['LNA','HNA','HPC_fail']]                   #only HNA/LNA\n",
    "input8=rawdata.loc[:, ['ATP','HPC_fail']]                         #only ATP\n",
    "input9=rawdata.loc[:, ['ICC','HPC_fail']]                         #only ICC\n",
    "input10=rawdata.loc[:, ['Free_Cl','HPC_fail']]                     #only free chlorine"
   ]
  },
  {
   "cell_type": "code",
   "execution_count": null,
   "id": "90a32034",
   "metadata": {
    "id": "90a32034"
   },
   "outputs": [],
   "source": [
    "### user control panel ###\n",
    "\n",
    "# input series selection\n",
    "table=input1\n",
    "\n",
    "# activation function selection (for all hidden layers)\n",
    "ActFunc=\"relu\" #\"relu\" or \"tanh\"\n",
    "\n",
    "nodes1=\"8\" #number of 1st hidden nodes"
   ]
  },
  {
   "cell_type": "code",
   "execution_count": null,
   "id": "6d504820",
   "metadata": {
    "colab": {
     "base_uri": "https://localhost:8080/"
    },
    "id": "6d504820",
    "outputId": "a55d0fff-4d26-4886-b36d-a92e5f4e9a21",
    "scrolled": true
   },
   "outputs": [],
   "source": [
    "table_norm = (table - table.min()) / (table.max()-table.min())\n",
    "table_shuffle = table_norm.sample(frac=1)  # Sample order shuffle\n",
    "print(table_shuffle.head()) # check your normalized data \n",
    "table_np = table_shuffle.to_numpy() "
   ]
  },
  {
   "cell_type": "code",
   "execution_count": null,
   "id": "ed845eaf",
   "metadata": {
    "id": "ed845eaf"
   },
   "outputs": [],
   "source": [
    "train_idx = int(len(table_np)*0.7) \n",
    "train_X, train_Y = table_np[:train_idx, :-1], table_np[:train_idx, -1]\n",
    "test_X, test_Y = table_np[train_idx:, :-1], table_np[train_idx:, -1]\n",
    "train_Y = tf.keras.utils.to_categorical(train_Y, num_classes = 2) \n",
    "test_Y = tf.keras.utils.to_categorical(test_Y, num_classes = 2)"
   ]
  },
  {
   "cell_type": "code",
   "execution_count": null,
   "id": "7b65daa4",
   "metadata": {
    "colab": {
     "base_uri": "https://localhost:8080/"
    },
    "id": "7b65daa4",
    "outputId": "5d92025c-4906-473a-f6e6-e94cca00be8a"
   },
   "outputs": [],
   "source": [
    "# activation function option \n",
    "# Too much modes or dense layers result in overfitting of model\n",
    "# I recommend using 'relu' in hidden layer activation function\n",
    "model =tf.keras.Sequential([\n",
    "    tf.keras.layers.Dense(units=nodes1, activation=ActFunc, input_shape=(len(table.columns)-1,)), \n",
    "    tf.keras.layers.Dense(units=8, activation=ActFunc), \n",
    "    tf.keras.layers.Dense(units=2, activation='softmax')\n",
    "])\n",
    "\n",
    "# optimizers: Adam, SGD, Adagrad, Nadam, or else\n",
    "# You can optimize learning rate\n",
    "model.compile(optimizer=tf.keras.optimizers.SGD(learning_rate=0.2), \n",
    "              loss='binary_crossentropy', metrics=['accuracy']) \n",
    "\n",
    "#optimization is needed for numbers in epochs and batch size\n",
    "#validation split affects the size of training/test data (we recommend 0.2 or 0.3)\n",
    "history = model.fit(train_X, train_Y, epochs=500, batch_size=50, validation_split=0.3,\n",
    "                    callbacks=[tf.keras.callbacks.EarlyStopping(patience=50, monitor=\"val_loss\")]) \n",
    "#Earlystopping will cease epoch automatically"
   ]
  },
  {
   "cell_type": "code",
   "execution_count": null,
   "id": "J4CY1dm5igN8",
   "metadata": {
    "colab": {
     "base_uri": "https://localhost:8080/",
     "height": 385
    },
    "id": "J4CY1dm5igN8",
    "outputId": "80727629-91f2-41e6-ccc2-027205cc56d4"
   },
   "outputs": [],
   "source": [
    "class KerasModelWrapper(BaseEstimator):\n",
    "    def __init__(self, keras_model):\n",
    "        self.keras_model = keras_model\n",
    "\n",
    "    def fit(self, X, y):\n",
    "        self.keras_model.fit(X, y)\n",
    "\n",
    "    def predict_proba(self, X):\n",
    "        return self.keras_model.predict_proba(X)\n",
    "\n",
    "    def score(self, X, y):\n",
    "        y_pred = self.keras_model.predict(X)\n",
    "        if y.shape[1] > 1:\n",
    "            # Handle multilabel-indicator targets\n",
    "            y_pred = (y_pred > 0.5).astype(int)\n",
    "        else:\n",
    "            # Handle binary targets\n",
    "            y_pred = np.argmax(y_pred, axis=-1)\n",
    "        return 1 - hamming_loss(y_true=y, y_pred=y_pred)\n",
    "\n",
    "# Create an instance of the KerasModelWrapper class\n",
    "keras_wrapper = KerasModelWrapper(model)\n",
    "\n",
    "# Fit the PermutationImportance object to the data\n",
    "perm = PermutationImportance(keras_wrapper, random_state=1).fit(train_X, train_Y)\n",
    "\n",
    "# Display the feature importances\n",
    "eli5.show_weights(perm, feature_names=table.columns[:-1].tolist())"
   ]
  },
  {
   "cell_type": "code",
   "execution_count": null,
   "id": "7a6f9e90",
   "metadata": {
    "colab": {
     "base_uri": "https://localhost:8080/",
     "height": 302
    },
    "id": "7a6f9e90",
    "outputId": "112eec1a-2af7-4972-ec79-ca73cfc825c8",
    "scrolled": false
   },
   "outputs": [],
   "source": [
    "plt.figure(figsize=(10,5))\n",
    "plt.subplot(1,2,1)\n",
    "plt.plot(history.history['loss'], 'b-', label='training loss')\n",
    "plt.plot(history.history['val_loss'], 'r--', label='test loss')\n",
    "plt.xlabel('Epoch')\n",
    "plt.xticks([0, 50, 100, 150, 200, 250], fontsize=13)\n",
    "plt.yticks(fontsize=13)\n",
    "plt.ylim(0.0, 1)\n",
    "plt.legend(fontsize=13)\n",
    "\n",
    "plt.subplot(1,2,2)\n",
    "plt.plot(history.history['accuracy'], 'g-', label='training accuracy')\n",
    "plt.plot(history.history['val_accuracy'], 'k--', label='test accuracy')\n",
    "plt.xlabel('Epoch')\n",
    "plt.ylim(0.0, 1)\n",
    "plt.xticks([0, 50, 100, 150, 200, 250], fontsize=13)\n",
    "plt.yticks(fontsize=13)\n",
    "plt.ylim(0.0, 1)\n",
    "plt.legend(fontsize=13)\n",
    "\n",
    "plt.show"
   ]
  },
  {
   "cell_type": "code",
   "execution_count": null,
   "id": "ff11fd85",
   "metadata": {
    "colab": {
     "base_uri": "https://localhost:8080/"
    },
    "id": "ff11fd85",
    "outputId": "978a914c-e646-48da-b4e5-f87103e4054f"
   },
   "outputs": [],
   "source": [
    "result = model.evaluate(test_X, test_Y)"
   ]
  },
  {
   "cell_type": "code",
   "execution_count": null,
   "id": "66e4ace6",
   "metadata": {
    "colab": {
     "base_uri": "https://localhost:8080/"
    },
    "id": "66e4ace6",
    "outputId": "13c5bd81-0a72-4c1e-bdf9-4177835a11e7"
   },
   "outputs": [],
   "source": [
    "pred_Y = model.predict(test_X)\n",
    "y1=np.delete(pred_Y,0,1)\n",
    "y2=np.transpose(y1)"
   ]
  },
  {
   "cell_type": "code",
   "execution_count": null,
   "id": "2155a52e",
   "metadata": {
    "id": "2155a52e"
   },
   "outputs": [],
   "source": [
    "x1=np.delete(test_Y,0,1)\n",
    "x2=np.transpose(x1)"
   ]
  },
  {
   "cell_type": "code",
   "execution_count": null,
   "id": "da88a043",
   "metadata": {
    "colab": {
     "base_uri": "https://localhost:8080/"
    },
    "id": "da88a043",
    "outputId": "9339eb2b-0f39-4dba-894b-da16c4590af7"
   },
   "outputs": [],
   "source": [
    "df1 = pd.DataFrame(data=x1,columns=['Test'])\n",
    "df2 = pd.DataFrame(data=y1, columns=['Predict'])\n",
    "df3 = pd.concat([df1, df2], axis = 1, ignore_index=False)\n",
    "print(\"This is a preview of test data prediction results\")\n",
    "print(df3.head())\n",
    "\n",
    "# Check the stored file to open full results\n",
    "filename = datetime.datetime.now().strftime(\"%m%d%H%M%S\")"
   ]
  },
  {
   "cell_type": "code",
   "execution_count": null,
   "id": "ac053527",
   "metadata": {
    "colab": {
     "base_uri": "https://localhost:8080/"
    },
    "id": "ac053527",
    "outputId": "3f126b86-2dad-4fce-de07-b72693fe46d8",
    "scrolled": true
   },
   "outputs": [],
   "source": [
    "model.summary()\n",
    "print(\"Activation function was\",ActFunc)"
   ]
  },
  {
   "cell_type": "code",
   "execution_count": null,
   "id": "sTqusQ9UCdb1",
   "metadata": {
    "id": "sTqusQ9UCdb1"
   },
   "outputs": [],
   "source": [
    "# Save the trained model in the *.h5 format\n",
    "model.save(\"trained_model_HPC.h5\")"
   ]
  },
  {
   "cell_type": "code",
   "execution_count": null,
   "id": "c5ae86db",
   "metadata": {
    "colab": {
     "base_uri": "https://localhost:8080/"
    },
    "id": "c5ae86db",
    "outputId": "3cd07856-58e9-43f2-846d-966d77bea01f"
   },
   "outputs": [],
   "source": [
    "from sklearn.metrics import confusion_matrix\n",
    "\n",
    "y_true = x1\n",
    "y_pred = np.round(y1,0)\n",
    "confusion_matrix(y_true, y_pred)\n",
    "\n",
    "matrix = confusion_matrix(y_true, y_pred, labels=[0, 1])\n",
    "print('confusion_matrix : \\n', matrix)"
   ]
  },
  {
   "cell_type": "code",
   "execution_count": null,
   "id": "b394dd7b",
   "metadata": {
    "id": "b394dd7b"
   },
   "outputs": [],
   "source": [
    "TN = matrix[0,0]\n",
    "TP = matrix[1,1]\n",
    "FN = matrix[1,0]\n",
    "FP = matrix[0,1]\n",
    "\n",
    "#accuracy = (TP+TN)/(TP+FN+FP+TN)\n",
    "sens = TP/(TP + FN) \n",
    "spec = TN/(TN + FP) "
   ]
  },
  {
   "cell_type": "code",
   "execution_count": null,
   "id": "0d945342",
   "metadata": {
    "colab": {
     "base_uri": "https://localhost:8080/",
     "height": 416
    },
    "id": "0d945342",
    "outputId": "b8e8c9f9-adca-4002-ca42-5d42618c8f51",
    "scrolled": false
   },
   "outputs": [],
   "source": [
    "# Final results\n",
    "plt.figure(figsize=(6,6))\n",
    "sb.stripplot(x=\"Test\", y=\"Predict\", hue=\"Test\", data=df3, linewidth=1, size=13, marker=\"o\", edgecolors=\"Set1\", alpha=0.7)\n",
    "plt.ylim(-0.1, 1.1)\n",
    "plt.xlim(-0.3, 1.3)\n",
    "plt.xticks([0.0,0.5,1.0], fontsize=14)\n",
    "plt.yticks([0.0,0.5,1.0], fontsize=14)\n",
    "plt.hlines(0.5,-1,2, color=\"lightgrey\", linestyle='dashed')\n",
    "plt.vlines(0.5,-1,2, color=\"lightgrey\", linestyle='dashed')\n",
    "plt.xlabel('True HPC', fontsize=15)\n",
    "plt.ylabel('Predicted HPC', fontsize=15)\n",
    "plt.legend(('Pass','Fail'), fontsize=12, loc='center')\n",
    "\n",
    "plt.text(1.4, 1.0, ('input',table.columns))\n",
    "plt.text(1.4, 0.9, ('activation function=', ActFunc, '1st nodes=', nodes1))\n",
    "plt.text(1.4, 0.8, ('Loss,acc=', result))\n",
    "plt.text(1.4, 0.7, ('sensitivity=', sens))\n",
    "plt.text(1.4, 0.6, ('specificity=', spec))\n",
    "\n",
    "# customize your directory \n",
    "#os.chdir(r\"C:\\\")\n",
    "figname = datetime.datetime.now().strftime(\"%m%d%H%M%S\")\n",
    "plt.savefig(\"Fig_\"+figname+\".png\", facecolor='white', bbox_inches='tight')\n",
    "plt.show()\n",
    "print(\"This is the final result by HPC pass/fail prediction by culture-independent FCM-ICC data\")"
   ]
  }
 ],
 "metadata": {
  "colab": {
   "provenance": []
  },
  "kernelspec": {
   "display_name": "Python [conda env:tensorflow] *",
   "language": "python",
   "name": "conda-env-tensorflow-py"
  },
  "language_info": {
   "codemirror_mode": {
    "name": "ipython",
    "version": 3
   },
   "file_extension": ".py",
   "mimetype": "text/x-python",
   "name": "python",
   "nbconvert_exporter": "python",
   "pygments_lexer": "ipython3",
   "version": "3.8.16"
  }
 },
 "nbformat": 4,
 "nbformat_minor": 5
}
