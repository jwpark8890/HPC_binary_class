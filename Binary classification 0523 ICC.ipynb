{
 "cells": [
  {
   "cell_type": "code",
   "execution_count": 166,
   "id": "908bdcad",
   "metadata": {},
   "outputs": [],
   "source": [
    "# HPC pass/fail classification model by Jiwon Park\n",
    "# Supervised binary classification model version 1.0 (2022. 05. 16)\n",
    "# Flow cytometry data should be prepared into subfraction concentration data\n",
    "# Limitations: 1) Only fit for chlorinated drinking water system. 2) bias by stagnant tap samples\n",
    "# Applications: Online FCM measurement to predict HPC regulatory pass/fail criteria"
   ]
  },
  {
   "cell_type": "code",
   "execution_count": 167,
   "id": "d53cae96",
   "metadata": {},
   "outputs": [],
   "source": [
    "import pandas as pd\n",
    "import seaborn as sb\n",
    "import numpy as np\n",
    "import tensorflow as tf\n",
    "import matplotlib.pyplot as plt\n",
    "table = pd.read_csv('data icc.csv', sep=',')  #Load your CSV data "
   ]
  },
  {
   "cell_type": "code",
   "execution_count": 168,
   "id": "52dbfaa6",
   "metadata": {
    "scrolled": false
   },
   "outputs": [
    {
     "name": "stdout",
     "output_type": "stream",
     "text": [
      "          Free_Cl         ATP           ICC    HPC_fail\n",
      "count  192.000000  192.000000    192.000000  192.000000\n",
      "mean     0.113021   36.217708   8835.864583    0.187500\n",
      "std      0.114271   38.393433  12940.708208    0.391333\n",
      "min      0.000000    4.700000    148.000000    0.000000\n",
      "25%      0.010000   12.700000    914.000000    0.000000\n",
      "50%      0.080000   23.100000   1887.000000    0.000000\n",
      "75%      0.220000   45.125000  14993.000000    0.000000\n",
      "max      0.440000  226.100000  62718.000000    1.000000\n",
      "0    156\n",
      "1     36\n",
      "Name: HPC_fail, dtype: int64\n"
     ]
    },
    {
     "data": {
      "text/plain": [
       "<Figure size 360x216 with 0 Axes>"
      ]
     },
     "metadata": {},
     "output_type": "display_data"
    }
   ],
   "source": [
    "print(table.describe())\n",
    "plt.figure(figsize=(5,3))\n",
    "print(table[\"HPC_fail\"].value_counts())\n",
    "# HPC pass/fail label should be at the end of column "
   ]
  },
  {
   "cell_type": "code",
   "execution_count": 169,
   "id": "32db4200",
   "metadata": {},
   "outputs": [],
   "source": [
    "#table_norm = (table - table.mean()) / (table.std())   # z score normalization: (data-mean)/(std)\n",
    "table_norm = (table - table.min()) / (table.max()-table.min())   \n",
    "#plt.hist(table_norm[\"HPC_fail\"])"
   ]
  },
  {
   "cell_type": "code",
   "execution_count": 170,
   "id": "6d504820",
   "metadata": {
    "scrolled": true
   },
   "outputs": [
    {
     "name": "stdout",
     "output_type": "stream",
     "text": [
      "      Free_Cl       ATP       ICC  HPC_fail\n",
      "167  0.000000  0.044264  0.019722       0.0\n",
      "21   0.022727  0.182475  0.658431       1.0\n",
      "118  0.363636  0.087173  0.026658       0.0\n",
      "17   0.000000  0.036134  0.039220       0.0\n",
      "160  0.522727  0.117435  0.004283       0.0\n"
     ]
    }
   ],
   "source": [
    "table_shuffle = table_norm.sample(frac=1)  # Sample order shuffle\n",
    "#table_shuffle = table_norm.sample(frac=1, random_state = 119)  \n",
    "print(table_shuffle.head()) # check your normalized data \n",
    "table_np = table_shuffle.to_numpy() "
   ]
  },
  {
   "cell_type": "code",
   "execution_count": 171,
   "id": "ed845eaf",
   "metadata": {},
   "outputs": [],
   "source": [
    "train_idx = int(len(table_np)*0.8) \n",
    "train_X, train_Y = table_np[:train_idx, :-1], table_np[:train_idx, -1]\n",
    "test_X, test_Y = table_np[train_idx:, :-1], table_np[train_idx:, -1]\n",
    "train_Y = tf.keras.utils.to_categorical(train_Y, num_classes = 2) \n",
    "test_Y = tf.keras.utils.to_categorical(test_Y, num_classes = 2)"
   ]
  },
  {
   "cell_type": "code",
   "execution_count": 172,
   "id": "7b65daa4",
   "metadata": {},
   "outputs": [
    {
     "name": "stdout",
     "output_type": "stream",
     "text": [
      "Model: \"sequential_11\"\n",
      "_________________________________________________________________\n",
      "Layer (type)                 Output Shape              Param #   \n",
      "=================================================================\n",
      "dense_33 (Dense)             (None, 16)                64        \n",
      "_________________________________________________________________\n",
      "dense_34 (Dense)             (None, 8)                 136       \n",
      "_________________________________________________________________\n",
      "dense_35 (Dense)             (None, 2)                 18        \n",
      "=================================================================\n",
      "Total params: 218\n",
      "Trainable params: 218\n",
      "Non-trainable params: 0\n",
      "_________________________________________________________________\n"
     ]
    }
   ],
   "source": [
    "#activation function option \n",
    "# Too much modes or dense layers result in overfitting of model\n",
    "\n",
    "model =tf.keras.Sequential([\n",
    "    tf.keras.layers.Dense(units=16, activation='relu', input_shape=(3,)), # options: relu, tanh, or sigmoid\n",
    "    tf.keras.layers.Dense(units=8, activation='softmax'),\n",
    "    tf.keras.layers.Dense(units=2, activation='softmax')\n",
    "])\n",
    "\n",
    "model.compile(optimizer=tf.keras.optimizers.Adam(learning_rate=0.07), # You can optimize learning rate\n",
    "#loss='binary_crossentropy', metrics=['accuracy']) #option: categorical_ or binary_\n",
    "loss='categorical_crossentropy', metrics=['accuracy']) \n",
    "\n",
    "model.summary()"
   ]
  },
  {
   "cell_type": "code",
   "execution_count": 173,
   "id": "28d4bb14",
   "metadata": {},
   "outputs": [
    {
     "name": "stdout",
     "output_type": "stream",
     "text": [
      "Epoch 1/150\n",
      "3/3 [==============================] - 1s 92ms/step - loss: 0.5591 - accuracy: 0.8197 - val_loss: 0.3773 - val_accuracy: 0.8710\n",
      "Epoch 2/150\n",
      "3/3 [==============================] - 0s 15ms/step - loss: 0.4216 - accuracy: 0.8197 - val_loss: 0.2890 - val_accuracy: 0.8710\n",
      "Epoch 3/150\n",
      "3/3 [==============================] - 0s 15ms/step - loss: 0.3532 - accuracy: 0.8197 - val_loss: 0.2354 - val_accuracy: 0.8710\n",
      "Epoch 4/150\n",
      "3/3 [==============================] - 0s 16ms/step - loss: 0.2981 - accuracy: 0.8197 - val_loss: 0.1933 - val_accuracy: 0.8710\n",
      "Epoch 5/150\n",
      "3/3 [==============================] - 0s 16ms/step - loss: 0.2372 - accuracy: 0.8197 - val_loss: 0.1622 - val_accuracy: 0.8710\n",
      "Epoch 6/150\n",
      "3/3 [==============================] - 0s 14ms/step - loss: 0.2162 - accuracy: 0.8607 - val_loss: 0.1610 - val_accuracy: 0.9032\n",
      "Epoch 7/150\n",
      "3/3 [==============================] - 0s 16ms/step - loss: 0.1903 - accuracy: 0.9098 - val_loss: 0.1730 - val_accuracy: 0.9032\n",
      "Epoch 8/150\n",
      "3/3 [==============================] - 0s 17ms/step - loss: 0.1956 - accuracy: 0.9098 - val_loss: 0.1675 - val_accuracy: 0.9032\n",
      "Epoch 9/150\n",
      "3/3 [==============================] - 0s 14ms/step - loss: 0.1694 - accuracy: 0.9098 - val_loss: 0.1520 - val_accuracy: 0.9355\n",
      "Epoch 10/150\n",
      "3/3 [==============================] - 0s 17ms/step - loss: 0.1639 - accuracy: 0.9180 - val_loss: 0.1558 - val_accuracy: 0.9355\n",
      "Epoch 11/150\n",
      "3/3 [==============================] - 0s 14ms/step - loss: 0.1584 - accuracy: 0.9098 - val_loss: 0.1391 - val_accuracy: 0.9355\n",
      "Epoch 12/150\n",
      "3/3 [==============================] - 0s 13ms/step - loss: 0.1482 - accuracy: 0.9098 - val_loss: 0.1429 - val_accuracy: 0.9355\n",
      "Epoch 13/150\n",
      "3/3 [==============================] - 0s 17ms/step - loss: 0.1535 - accuracy: 0.9180 - val_loss: 0.1358 - val_accuracy: 0.9355\n",
      "Epoch 14/150\n",
      "3/3 [==============================] - 0s 15ms/step - loss: 0.1444 - accuracy: 0.9262 - val_loss: 0.1289 - val_accuracy: 0.9355\n",
      "Epoch 15/150\n",
      "3/3 [==============================] - 0s 16ms/step - loss: 0.1573 - accuracy: 0.9508 - val_loss: 0.1336 - val_accuracy: 0.9355\n",
      "Epoch 16/150\n",
      "3/3 [==============================] - 0s 15ms/step - loss: 0.1405 - accuracy: 0.9426 - val_loss: 0.1405 - val_accuracy: 0.9355\n",
      "Epoch 17/150\n",
      "3/3 [==============================] - 0s 14ms/step - loss: 0.1415 - accuracy: 0.9426 - val_loss: 0.1380 - val_accuracy: 0.9355\n",
      "Epoch 18/150\n",
      "3/3 [==============================] - 0s 15ms/step - loss: 0.1353 - accuracy: 0.9508 - val_loss: 0.1409 - val_accuracy: 0.9355\n",
      "Epoch 19/150\n",
      "3/3 [==============================] - 0s 15ms/step - loss: 0.1504 - accuracy: 0.9344 - val_loss: 0.1441 - val_accuracy: 0.9355\n",
      "Epoch 20/150\n",
      "3/3 [==============================] - 0s 14ms/step - loss: 0.1279 - accuracy: 0.9426 - val_loss: 0.1345 - val_accuracy: 0.9355\n",
      "Epoch 21/150\n",
      "3/3 [==============================] - 0s 15ms/step - loss: 0.1431 - accuracy: 0.9508 - val_loss: 0.1527 - val_accuracy: 0.9355\n",
      "Epoch 22/150\n",
      "3/3 [==============================] - 0s 15ms/step - loss: 0.1513 - accuracy: 0.9344 - val_loss: 0.1855 - val_accuracy: 0.9032\n",
      "Epoch 23/150\n",
      "3/3 [==============================] - 0s 13ms/step - loss: 0.2045 - accuracy: 0.9098 - val_loss: 0.1829 - val_accuracy: 0.9032\n",
      "Epoch 24/150\n",
      "3/3 [==============================] - 0s 16ms/step - loss: 0.1915 - accuracy: 0.9180 - val_loss: 0.1448 - val_accuracy: 0.9355\n"
     ]
    }
   ],
   "source": [
    "#optimization is needed for numbers in epochs and batch size\n",
    "#validation split affects the size of training/test data (we recommend 0.2 or 0.3)\n",
    "history = model.fit(train_X, train_Y, epochs=150, batch_size=55, validation_split=0.2,\n",
    "                    callbacks=[tf.keras.callbacks.EarlyStopping(patience=10, monitor=\"val_loss\")]) \n",
    "#Earlystopping will cease epoch automatically"
   ]
  },
  {
   "cell_type": "code",
   "execution_count": 174,
   "id": "7a6f9e90",
   "metadata": {
    "scrolled": true
   },
   "outputs": [
    {
     "data": {
      "text/plain": [
       "<function matplotlib.pyplot.show(close=None, block=None)>"
      ]
     },
     "execution_count": 174,
     "metadata": {},
     "output_type": "execute_result"
    },
    {
     "data": {
      "image/png": "[encoded data removed]",
      "text/plain": [
       "<Figure size 1080x360 with 2 Axes>"
      ]
     },
     "metadata": {
      "needs_background": "light"
     },
     "output_type": "display_data"
    }
   ],
   "source": [
    "plt.figure(figsize=(15,5))\n",
    "plt.subplot(1,2,1)\n",
    "plt.plot(history.history['loss'], 'b-', label='loss')\n",
    "plt.plot(history.history['val_loss'], 'r--', label='val_loss')\n",
    "plt.xlabel('Epoch')\n",
    "plt.ylim(0.0, 1)\n",
    "plt.legend()\n",
    "\n",
    "plt.subplot(1,2,2)\n",
    "plt.plot(history.history['accuracy'], 'g-', label='accuracy')\n",
    "plt.plot(history.history['val_accuracy'], 'k--', label='val_acc')\n",
    "plt.xlabel('Epoch')\n",
    "plt.ylim(0.0, 1)\n",
    "plt.legend()\n",
    "\n",
    "plt.show"
   ]
  },
  {
   "cell_type": "code",
   "execution_count": 175,
   "id": "ff11fd85",
   "metadata": {},
   "outputs": [
    {
     "name": "stdout",
     "output_type": "stream",
     "text": [
      "2/2 [==============================] - 0s 2ms/step - loss: 0.1780 - accuracy: 0.9231\n"
     ]
    },
    {
     "data": {
      "text/plain": [
       "[0.1779530644416809, 0.9230769276618958]"
      ]
     },
     "execution_count": 175,
     "metadata": {},
     "output_type": "execute_result"
    }
   ],
   "source": [
    "model.evaluate(test_X, test_Y)"
   ]
  },
  {
   "cell_type": "code",
   "execution_count": 176,
   "id": "66e4ace6",
   "metadata": {},
   "outputs": [
    {
     "name": "stdout",
     "output_type": "stream",
     "text": [
      "[[0.00204256 0.00217653 0.00204976 0.8461073  0.00203055 0.84655625\n",
      "  0.00601326 0.00203756 0.00345313 0.83771634 0.00203981 0.00209718\n",
      "  0.00203044 0.8389212  0.8480231  0.0020859  0.00226244 0.84794664\n",
      "  0.8476827  0.00306233 0.00208626 0.8478918  0.00300811 0.00205138\n",
      "  0.00206065 0.00228201 0.00286286 0.00203272 0.00265895 0.0020349\n",
      "  0.0027345  0.55554694 0.00203073 0.00302839 0.7968894  0.03185925\n",
      "  0.6473165  0.00210152 0.00272254]]\n"
     ]
    }
   ],
   "source": [
    "pred_Y = model.predict(test_X)\n",
    "y1=np.delete(pred_Y,0,1)\n",
    "y2=np.transpose(y1)\n",
    "print(y2)"
   ]
  },
  {
   "cell_type": "code",
   "execution_count": 177,
   "id": "2155a52e",
   "metadata": {},
   "outputs": [
    {
     "name": "stdout",
     "output_type": "stream",
     "text": [
      "[[0. 0. 0. 1. 0. 1. 0. 0. 0. 1. 0. 0. 0. 1. 1. 0. 0. 1. 1. 0. 0. 1. 0. 0.\n",
      "  0. 0. 0. 0. 0. 0. 0. 0. 0. 0. 1. 1. 0. 0. 0.]]\n"
     ]
    }
   ],
   "source": [
    "x1=np.delete(test_Y,0,1)\n",
    "x2=np.transpose(x1)\n",
    "print(x2)"
   ]
  },
  {
   "cell_type": "code",
   "execution_count": 178,
   "id": "da88a043",
   "metadata": {},
   "outputs": [
    {
     "name": "stdout",
     "output_type": "stream",
     "text": [
      "This is a preview of test data prediction results\n",
      "   Test   Predict\n",
      "0   0.0  0.002043\n",
      "1   0.0  0.002177\n",
      "2   0.0  0.002050\n",
      "3   1.0  0.846107\n",
      "4   0.0  0.002031\n"
     ]
    }
   ],
   "source": [
    "df1 = pd.DataFrame(data=x1,columns=['Test'])\n",
    "df2 = pd.DataFrame(data=y1, columns=['Predict'])\n",
    "df3 = pd.concat([df1, df2], axis = 1, ignore_index=False)\n",
    "print(\"This is a preview of test data prediction results\")\n",
    "print(df3.head())\n",
    "df3.to_csv('result_test_merge.csv') # Check the stored CSV file to open full results"
   ]
  },
  {
   "cell_type": "code",
   "execution_count": 179,
   "id": "6cb3b43f",
   "metadata": {},
   "outputs": [
    {
     "name": "stderr",
     "output_type": "stream",
     "text": [
      "C:\\Users\\JW PARK\\anaconda3\\envs\\tensorflow\\lib\\site-packages\\seaborn\\categorical.py:1136: UserWarning: You passed a edgecolor/edgecolors ('Set1') for an unfilled marker ('x').  Matplotlib is ignoring the edgecolor in favor of the facecolor.  This behavior may change in the future.\n",
      "  ax.scatter(cat_pos, strip_data, **kws)\n"
     ]
    },
    {
     "data": {
      "image/png": "[encoded data removed]",
      "text/plain": [
       "<Figure size 432x432 with 1 Axes>"
      ]
     },
     "metadata": {
      "needs_background": "light"
     },
     "output_type": "display_data"
    },
    {
     "name": "stdout",
     "output_type": "stream",
     "text": [
      "This is the final result by HPC pass/fail prediction by culture-independent FCM-ICC data\n"
     ]
    }
   ],
   "source": [
    "# Final results\n",
    "# You can change styles (dot shape, size, and colors)\n",
    "plt.figure(figsize=(6,6))\n",
    "#colors = [\"dodgerblue\", \"red\"]\n",
    "#sb.set_palette(sb.color_palette(colors))\n",
    "sb.stripplot(x=\"Test\", y=\"Predict\", hue=\"Test\", data=df3, linewidth=1, size=15, marker=\"x\", edgecolors=\"Set1\", alpha=0.7)\n",
    "plt.ylim(-0.1, 1.1)\n",
    "#plt.xlim(-0.1, 1.1)\n",
    "\n",
    "plt.xticks([0.0,0.5,1.0], fontsize=14)\n",
    "plt.yticks([0.0,0.5,1.0], fontsize=14)\n",
    "plt.xlabel('True HPC', fontsize=15)\n",
    "plt.ylabel('Predicted HPC', fontsize=15)\n",
    "#plt.legend(fontsize=12) \n",
    "plt.show()\n",
    "print(\"This is the final result by HPC pass/fail prediction by culture-independent FCM-ICC data\")"
   ]
  },
  {
   "cell_type": "code",
   "execution_count": 180,
   "id": "c4237d53",
   "metadata": {},
   "outputs": [
    {
     "data": {
      "image/png": "[encoded data removed]",
      "text/plain": [
       "<Figure size 432x432 with 1 Axes>"
      ]
     },
     "metadata": {
      "needs_background": "light"
     },
     "output_type": "display_data"
    },
    {
     "name": "stdout",
     "output_type": "stream",
     "text": [
      "This is the final result by HPC pass/fail prediction by culture-independent FCM-ICC data\n"
     ]
    }
   ],
   "source": [
    "plt.figure(figsize=(6,6))\n",
    "#colors = [\"dodgerblue\", \"red\"]\n",
    "#sb.set_palette(sb.color_palette(colors))\n",
    "sb.boxplot(x=\"Test\", y=\"Predict\", hue=\"Test\", data=df3)\n",
    "plt.ylim(-0.1, 1.1)\n",
    "#plt.xlim(-0.1, 1.1)\n",
    "\n",
    "plt.xticks([0.0,0.5,1.0], fontsize=14)\n",
    "plt.yticks([0.0,0.5,1.0], fontsize=14)\n",
    "plt.xlabel('True HPC', fontsize=15)\n",
    "plt.ylabel('Predicted HPC', fontsize=15)\n",
    "#plt.legend(fontsize=12) \n",
    "plt.show()\n",
    "print(\"This is the final result by HPC pass/fail prediction by culture-independent FCM-ICC data\")"
   ]
  },
  {
   "cell_type": "code",
   "execution_count": null,
   "id": "9178e552",
   "metadata": {},
   "outputs": [],
   "source": []
  }
 ],
 "metadata": {
  "kernelspec": {
   "display_name": "Python [conda env:tensorflow] *",
   "language": "python",
   "name": "conda-env-tensorflow-py"
  },
  "language_info": {
   "codemirror_mode": {
    "name": "ipython",
    "version": 3
   },
   "file_extension": ".py",
   "mimetype": "text/x-python",
   "name": "python",
   "nbconvert_exporter": "python",
   "pygments_lexer": "ipython3",
   "version": "3.9.7"
  }
 },
 "nbformat": 4,
 "nbformat_minor": 5
}
